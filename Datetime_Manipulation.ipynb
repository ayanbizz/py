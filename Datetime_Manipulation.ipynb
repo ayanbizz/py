{
  "nbformat": 4,
  "nbformat_minor": 0,
  "metadata": {
    "colab": {
      "name": "Untitled7.ipynb",
      "provenance": [],
      "authorship_tag": "ABX9TyOcZq4RuZr5tPU3KBUjJsz+",
      "include_colab_link": true
    },
    "kernelspec": {
      "name": "python3",
      "display_name": "Python 3"
    }
  },
  "cells": [
    {
      "cell_type": "markdown",
      "metadata": {
        "id": "view-in-github",
        "colab_type": "text"
      },
      "source": [
        "<a href=\"https://colab.research.google.com/github/ayanbizz/py/blob/master/Datetime_Manipulation.ipynb\" target=\"_parent\"><img src=\"https://colab.research.google.com/assets/colab-badge.svg\" alt=\"Open In Colab\"/></a>"
      ]
    },
    {
      "cell_type": "markdown",
      "metadata": {
        "id": "CeAa7i-ibVu7",
        "colab_type": "text"
      },
      "source": [
        "Date Time Formatting in **Python** "
      ]
    },
    {
      "cell_type": "code",
      "metadata": {
        "id": "cs96wOKhbgu_",
        "colab_type": "code",
        "colab": {}
      },
      "source": [
        "import pandas as pd\n",
        "import numpy as np\n",
        "from datetime import datetime"
      ],
      "execution_count": 0,
      "outputs": []
    },
    {
      "cell_type": "code",
      "metadata": {
        "id": "7fruoWtEble3",
        "colab_type": "code",
        "colab": {
          "base_uri": "https://localhost:8080/",
          "height": 136
        },
        "outputId": "f06a1aab-d441-4a2b-bc71-ad47ce85b0b1"
      },
      "source": [
        "np.arange('2019-01-01','2019-01-27',dtype='datetime64[D]')"
      ],
      "execution_count": 5,
      "outputs": [
        {
          "output_type": "execute_result",
          "data": {
            "text/plain": [
              "array(['2019-01-01', '2019-01-02', '2019-01-03', '2019-01-04',\n",
              "       '2019-01-05', '2019-01-06', '2019-01-07', '2019-01-08',\n",
              "       '2019-01-09', '2019-01-10', '2019-01-11', '2019-01-12',\n",
              "       '2019-01-13', '2019-01-14', '2019-01-15', '2019-01-16',\n",
              "       '2019-01-17', '2019-01-18', '2019-01-19', '2019-01-20',\n",
              "       '2019-01-21', '2019-01-22', '2019-01-23', '2019-01-24',\n",
              "       '2019-01-25', '2019-01-26'], dtype='datetime64[D]')"
            ]
          },
          "metadata": {
            "tags": []
          },
          "execution_count": 5
        }
      ]
    },
    {
      "cell_type": "code",
      "metadata": {
        "id": "FvITWOhOcbAI",
        "colab_type": "code",
        "colab": {
          "base_uri": "https://localhost:8080/",
          "height": 85
        },
        "outputId": "5e66a674-dfb9-45ef-9241-e2778c1e1117"
      },
      "source": [
        "np.arange('2019-01-01','2019-01-27',2,dtype='datetime64[D]')"
      ],
      "execution_count": 6,
      "outputs": [
        {
          "output_type": "execute_result",
          "data": {
            "text/plain": [
              "array(['2019-01-01', '2019-01-03', '2019-01-05', '2019-01-07',\n",
              "       '2019-01-09', '2019-01-11', '2019-01-13', '2019-01-15',\n",
              "       '2019-01-17', '2019-01-19', '2019-01-21', '2019-01-23',\n",
              "       '2019-01-25'], dtype='datetime64[D]')"
            ]
          },
          "metadata": {
            "tags": []
          },
          "execution_count": 6
        }
      ]
    },
    {
      "cell_type": "code",
      "metadata": {
        "id": "sE_qxZVIco-1",
        "colab_type": "code",
        "colab": {
          "base_uri": "https://localhost:8080/",
          "height": 102
        },
        "outputId": "73d5e79d-0b16-4d77-fcf5-af9ccca0c7b7"
      },
      "source": [
        "pd.date_range('2019-01-01','2019-01-27',periods=7)\n"
      ],
      "execution_count": 13,
      "outputs": [
        {
          "output_type": "execute_result",
          "data": {
            "text/plain": [
              "DatetimeIndex(['2019-01-01 00:00:00', '2019-01-05 08:00:00',\n",
              "               '2019-01-09 16:00:00', '2019-01-14 00:00:00',\n",
              "               '2019-01-18 08:00:00', '2019-01-22 16:00:00',\n",
              "               '2019-01-27 00:00:00'],\n",
              "              dtype='datetime64[ns]', freq=None)"
            ]
          },
          "metadata": {
            "tags": []
          },
          "execution_count": 13
        }
      ]
    },
    {
      "cell_type": "code",
      "metadata": {
        "id": "qBIarhhrdofg",
        "colab_type": "code",
        "colab": {
          "base_uri": "https://localhost:8080/",
          "height": 102
        },
        "outputId": "9de52fba-46cb-40f4-800d-1eab0826a370"
      },
      "source": [
        "data = np.random.rand(4,2)\n",
        "data.shape\n",
        "cols =['A','B']\n",
        "idx=pd.date_range('2020-01-01',periods=4,freq='D')\n",
        "#idx\n",
        "df= pd.DataFrame(data,columns=cols,index=idx)\n",
        "print(df)\n"
      ],
      "execution_count": 31,
      "outputs": [
        {
          "output_type": "stream",
          "text": [
            "                   A         B\n",
            "2020-01-01  0.288742  0.142349\n",
            "2020-01-02  0.661404  0.282122\n",
            "2020-01-03  0.491391  0.242805\n",
            "2020-01-04  0.391517  0.032009\n"
          ],
          "name": "stdout"
        }
      ]
    },
    {
      "cell_type": "code",
      "metadata": {
        "id": "EwL3osrRfb-e",
        "colab_type": "code",
        "colab": {
          "base_uri": "https://localhost:8080/",
          "height": 34
        },
        "outputId": "110b4851-984a-4470-97de-d182813bce87"
      },
      "source": [
        "df.index.max"
      ],
      "execution_count": 32,
      "outputs": [
        {
          "output_type": "execute_result",
          "data": {
            "text/plain": [
              "<bound method DatetimeIndexOpsMixin.max of DatetimeIndex(['2020-01-01', '2020-01-02', '2020-01-03', '2020-01-04'], dtype='datetime64[ns]', freq='D')>"
            ]
          },
          "metadata": {
            "tags": []
          },
          "execution_count": 32
        }
      ]
    }
  ]
}